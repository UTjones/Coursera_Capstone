{
 "cells": [
  {
   "cell_type": "markdown",
   "metadata": {},
   "source": [
    "# Introduction: Expanding market opportunities."
   ]
  },
  {
   "cell_type": "markdown",
   "metadata": {},
   "source": [
    "Before expanding into a new city it is important that a a buisness understands the culture of the new market.  In some instances it might be prudent to move into a new city with similar culture, and life styles to cities you currently opperate out of.  This will attract similar employee's to the ones you have and provide similar markety opportunities in a different geographic location.  If your company is seeing sucess in one city expanding into a city with a similar culture could replicate the sucess into a different location.  In other instances a company may be looking to move into a different market.  To find employee's with different values to expand company thinking.  There are always new markets that could be broken into instead of marketing to a subset of potential customers.  In either case it is prudent that a buisness understand the culture of a city and how it compares to other cities in the United States.  Our analysis will leverage the foursquare API to determine the 300 closest venues to the city center of the top 150 US cities (by population).  Using this data we will run a k-means clustering algorith to determine which cities share a similar culture.  The data will then be displayed on an interactive map for easy readability."
   ]
  },
  {
   "cell_type": "markdown",
   "metadata": {},
   "source": [
    "## The Data"
   ]
  },
  {
   "cell_type": "markdown",
   "metadata": {},
   "source": [
    "The Data we will use in this analysis will come from the wikipedia page \n",
    "[US cities by population](https://en.wikipedia.org/wiki/List_of_United_States_cities_by_population \"wikipedia US cities\") which lists US cities by population.  From this table we will scrape the top 150 cities by population size, their population density (2016 estimate), longitude and latitude,and change in size (from the 2010 census to the 2018 estimate).  This data will help compare cities based on their size and population.  In addition we will use the longitude and latitude data of each city to call 300 venues within 3 miles from the city center.  This will allow us to do a comparision on the types of venues the local population enjoys as a measure of the local culture."
   ]
  },
  {
   "cell_type": "code",
   "execution_count": null,
   "metadata": {},
   "outputs": [],
   "source": []
  }
 ],
 "metadata": {
  "kernelspec": {
   "display_name": "Python 3",
   "language": "python",
   "name": "python3"
  },
  "language_info": {
   "codemirror_mode": {
    "name": "ipython",
    "version": 3
   },
   "file_extension": ".py",
   "mimetype": "text/x-python",
   "name": "python",
   "nbconvert_exporter": "python",
   "pygments_lexer": "ipython3",
   "version": "3.7.4"
  }
 },
 "nbformat": 4,
 "nbformat_minor": 2
}
